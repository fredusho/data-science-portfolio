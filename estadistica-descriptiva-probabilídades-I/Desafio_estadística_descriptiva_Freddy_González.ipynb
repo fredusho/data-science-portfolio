{
  "nbformat": 4,
  "nbformat_minor": 0,
  "metadata": {
    "colab": {
      "provenance": []
    },
    "kernelspec": {
      "name": "python3",
      "display_name": "Python 3"
    },
    "language_info": {
      "name": "python"
    }
  },
  "cells": [
    {
      "cell_type": "markdown",
      "source": [
        "# Desafío - Estadística descriptiva y Probabilidades Parte I - Freddy González"
      ],
      "metadata": {
        "id": "2qZxTMatnbNp"
      }
    },
    {
      "cell_type": "code",
      "execution_count": null,
      "metadata": {
        "id": "hEs8QL7pnM0G"
      },
      "outputs": [],
      "source": [
        "import pandas as pd\n",
        "import numpy as np"
      ]
    },
    {
      "cell_type": "markdown",
      "source": [
        "Importar Datos csv"
      ],
      "metadata": {
        "id": "OF_Tvew3n1Y3"
      }
    },
    {
      "cell_type": "code",
      "source": [
        "df = pd.read_csv('/content/ds_salaries.csv')\n",
        "print(df)"
      ],
      "metadata": {
        "colab": {
          "base_uri": "https://localhost:8080/"
        },
        "id": "tfQI7jl4nYf2",
        "outputId": "417d3b2c-c95c-4b11-c6bd-1c38ffd2529e"
      },
      "execution_count": null,
      "outputs": [
        {
          "output_type": "stream",
          "name": "stdout",
          "text": [
            "      work_year experience_level employment_type                 job_title  \\\n",
            "0          2023               SE              FT  Principal Data Scientist   \n",
            "1          2023               MI              CT               ML Engineer   \n",
            "2          2023               MI              CT               ML Engineer   \n",
            "3          2023               SE              FT            Data Scientist   \n",
            "4          2023               SE              FT            Data Scientist   \n",
            "...         ...              ...             ...                       ...   \n",
            "3750       2020               SE              FT            Data Scientist   \n",
            "3751       2021               MI              FT  Principal Data Scientist   \n",
            "3752       2020               EN              FT            Data Scientist   \n",
            "3753       2020               EN              CT     Business Data Analyst   \n",
            "3754       2021               SE              FT      Data Science Manager   \n",
            "\n",
            "       salary salary_currency  salary_in_usd employee_residence  remote_ratio  \\\n",
            "0       80000             EUR          85847                 ES           100   \n",
            "1       30000             USD          30000                 US           100   \n",
            "2       25500             USD          25500                 US           100   \n",
            "3      175000             USD         175000                 CA           100   \n",
            "4      120000             USD         120000                 CA           100   \n",
            "...       ...             ...            ...                ...           ...   \n",
            "3750   412000             USD         412000                 US           100   \n",
            "3751   151000             USD         151000                 US           100   \n",
            "3752   105000             USD         105000                 US           100   \n",
            "3753   100000             USD         100000                 US           100   \n",
            "3754  7000000             INR          94665                 IN            50   \n",
            "\n",
            "     company_location company_size  \n",
            "0                  ES            L  \n",
            "1                  US            S  \n",
            "2                  US            S  \n",
            "3                  CA            M  \n",
            "4                  CA            M  \n",
            "...               ...          ...  \n",
            "3750               US            L  \n",
            "3751               US            L  \n",
            "3752               US            S  \n",
            "3753               US            L  \n",
            "3754               IN            L  \n",
            "\n",
            "[3755 rows x 11 columns]\n"
          ]
        }
      ]
    },
    {
      "cell_type": "markdown",
      "source": [
        "1. Analicemos el promedio, desviación estándar, quintiles y rango para la columna salary_in_usd."
      ],
      "metadata": {
        "id": "IDSi2-KgpkZj"
      }
    },
    {
      "cell_type": "code",
      "source": [
        "# Cálculos estadísticos básicos\n",
        "mean_salary = df['salary_in_usd'].mean()\n",
        "std_salary = df['salary_in_usd'].std()\n",
        "quantiles = df['salary_in_usd'].quantile([0.25, 0.5, 0.75])\n",
        "salary_range = df['salary_in_usd'].max() - df['salary_in_usd'].min()\n",
        "\n",
        "# Mostrar los resultados\n",
        "print(f\"Promedio: {mean_salary}\")\n",
        "print(f\"Desviación estándar: {std_salary}\")\n",
        "print(f\"Quintiles:\\n{quantiles}\")\n",
        "print(f\"Rango: {salary_range}\")"
      ],
      "metadata": {
        "colab": {
          "base_uri": "https://localhost:8080/"
        },
        "id": "jfnRncRMplQ4",
        "outputId": "acd18cfb-0eb4-4d19-c8cb-0babdf13a324"
      },
      "execution_count": null,
      "outputs": [
        {
          "output_type": "stream",
          "name": "stdout",
          "text": [
            "Promedio: 137570.38988015978\n",
            "Desviación estándar: 63055.625278224084\n",
            "Quintiles:\n",
            "0.25     95000.0\n",
            "0.50    135000.0\n",
            "0.75    175000.0\n",
            "Name: salary_in_usd, dtype: float64\n",
            "Rango: 444868\n"
          ]
        }
      ]
    },
    {
      "cell_type": "markdown",
      "source": [
        "2. Comparación por categorías elejimos 3 categorías:\n",
        "experience_level,\n",
        "employment_type,\n",
        "company_size"
      ],
      "metadata": {
        "id": "Bwt3W8l1p4Nb"
      }
    },
    {
      "cell_type": "code",
      "source": [
        "categories = ['experience_level', 'employment_type', 'company_size']\n",
        "\n",
        "for category in categories:\n",
        "    print(f\"Análisis por {category}:\")\n",
        "    print(df.groupby(category)['salary_in_usd'].agg(['mean', 'median', 'std', 'min', 'max']))\n",
        "    print(\"\\n\")"
      ],
      "metadata": {
        "colab": {
          "base_uri": "https://localhost:8080/"
        },
        "id": "rskuXpNeqUFd",
        "outputId": "7d4014b1-7502-4522-cd5d-05a4ef37833b"
      },
      "execution_count": null,
      "outputs": [
        {
          "output_type": "stream",
          "name": "stdout",
          "text": [
            "Análisis por experience_level:\n",
            "                           mean    median           std    min     max\n",
            "experience_level                                                      \n",
            "EN                 78546.284375   70000.0  52225.424309   5409  300000\n",
            "EX                194930.929825  196000.0  70661.929661  15000  416000\n",
            "MI                104525.939130  100000.0  54387.685128   5132  450000\n",
            "SE                153051.071542  146000.0  56896.263954   8000  423834\n",
            "\n",
            "\n",
            "Análisis por employment_type:\n",
            "                          mean    median            std    min     max\n",
            "employment_type                                                       \n",
            "CT               113446.900000   75000.0  130176.746842   7500  416000\n",
            "FL                51807.800000   50000.0   29458.879336  12000  100000\n",
            "FT               138314.199570  135000.0   62452.177613   5132  450000\n",
            "PT                39533.705882   21669.0   38312.145181   5409  125404\n",
            "\n",
            "\n",
            "Análisis por company_size:\n",
            "                       mean    median           std   min     max\n",
            "company_size                                                     \n",
            "L             118300.982379  108500.0  75832.391505  5409  423834\n",
            "M             143130.548367  140000.0  58992.813382  5132  450000\n",
            "S              78226.682432   62146.0  61955.141792  5679  416000\n",
            "\n",
            "\n"
          ]
        }
      ]
    },
    {
      "cell_type": "markdown",
      "source": [
        "Más representativa: experience_level\n",
        "los niveles de experiencia tienen menor dispersión en los salarios y un patrón más claro.\n",
        "Menos representativa: employment_type\n",
        "existe alta variabilidad entre tipos de empleo (por ejemplo, entre freelance y tiempo completo), lo que afecta la representatividad de las medidas centrales."
      ],
      "metadata": {
        "id": "z6o6QsJjruaY"
      }
    },
    {
      "cell_type": "markdown",
      "source": [
        "3. Análisis de cargos en empresas de EEUU"
      ],
      "metadata": {
        "id": "aD0vnmBqqpnb"
      }
    },
    {
      "cell_type": "code",
      "source": [
        "#Filtraremos las empresas con sede en EE.UU. (company_location == 'US') y veremos qué cargos tienen mejores sueldos.\n",
        "# Filtrar empresas con sede en EE.UU.\n",
        "usa_jobs = df[df['company_location'] == 'US']\n",
        "\n",
        "# Analizar los mejores salarios por cargo\n",
        "top_jobs_in_usa = usa_jobs.groupby('job_title')['salary_in_usd'].mean().sort_values(ascending=False).head(10)\n",
        "\n",
        "# Mostrar los resultados\n",
        "print(\"Cargos mejor pagados en empresas de EE.UU.:\")\n",
        "print(top_jobs_in_usa)"
      ],
      "metadata": {
        "colab": {
          "base_uri": "https://localhost:8080/"
        },
        "id": "GDA750m-q1Qt",
        "outputId": "781bafc2-e5dc-4c4b-9beb-8d0e7720e15a"
      },
      "execution_count": null,
      "outputs": [
        {
          "output_type": "stream",
          "name": "stdout",
          "text": [
            "Cargos mejor pagados en empresas de EE.UU.:\n",
            "job_title\n",
            "Data Analytics Lead                   405000.000000\n",
            "Data Science Tech Lead                375000.000000\n",
            "Director of Data Science              294375.000000\n",
            "Principal Data Scientist              255500.000000\n",
            "Cloud Data Architect                  250000.000000\n",
            "Applied Data Scientist                238000.000000\n",
            "Head of Data                          233183.333333\n",
            "Machine Learning Software Engineer    217400.000000\n",
            "Data Lead                             212500.000000\n",
            "Head of Data Science                  202355.000000\n",
            "Name: salary_in_usd, dtype: float64\n"
          ]
        }
      ]
    }
  ]
}