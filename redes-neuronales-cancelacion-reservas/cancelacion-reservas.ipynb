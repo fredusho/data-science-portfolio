{
  "nbformat": 4,
  "nbformat_minor": 0,
  "metadata": {
    "colab": {
      "provenance": []
    },
    "kernelspec": {
      "name": "python3",
      "display_name": "Python 3"
    },
    "language_info": {
      "name": "python"
    }
  },
  "cells": [
    {
      "cell_type": "markdown",
      "source": [
        "# Desafío - Predicción de cancelación de reserva"
      ],
      "metadata": {
        "id": "334yKQ13pWaA"
      }
    },
    {
      "cell_type": "markdown",
      "source": [
        "Librerias"
      ],
      "metadata": {
        "id": "Sv9q_iFfrMqg"
      }
    },
    {
      "cell_type": "code",
      "source": [
        "!pip install scikeras"
      ],
      "metadata": {
        "id": "soiSlvN2wZxJ",
        "colab": {
          "base_uri": "https://localhost:8080/"
        },
        "outputId": "dca31d4a-a2d5-47ab-f7c5-d1c348bb2ca2"
      },
      "execution_count": null,
      "outputs": [
        {
          "output_type": "stream",
          "name": "stdout",
          "text": [
            "Requirement already satisfied: scikeras in /usr/local/lib/python3.11/dist-packages (0.13.0)\n",
            "Requirement already satisfied: keras>=3.2.0 in /usr/local/lib/python3.11/dist-packages (from scikeras) (3.8.0)\n",
            "Requirement already satisfied: scikit-learn>=1.4.2 in /usr/local/lib/python3.11/dist-packages (from scikeras) (1.7.0)\n",
            "Requirement already satisfied: absl-py in /usr/local/lib/python3.11/dist-packages (from keras>=3.2.0->scikeras) (1.4.0)\n",
            "Requirement already satisfied: numpy in /usr/local/lib/python3.11/dist-packages (from keras>=3.2.0->scikeras) (2.0.2)\n",
            "Requirement already satisfied: rich in /usr/local/lib/python3.11/dist-packages (from keras>=3.2.0->scikeras) (13.9.4)\n",
            "Requirement already satisfied: namex in /usr/local/lib/python3.11/dist-packages (from keras>=3.2.0->scikeras) (0.1.0)\n",
            "Requirement already satisfied: h5py in /usr/local/lib/python3.11/dist-packages (from keras>=3.2.0->scikeras) (3.14.0)\n",
            "Requirement already satisfied: optree in /usr/local/lib/python3.11/dist-packages (from keras>=3.2.0->scikeras) (0.16.0)\n",
            "Requirement already satisfied: ml-dtypes in /usr/local/lib/python3.11/dist-packages (from keras>=3.2.0->scikeras) (0.4.1)\n",
            "Requirement already satisfied: packaging in /usr/local/lib/python3.11/dist-packages (from keras>=3.2.0->scikeras) (24.2)\n",
            "Requirement already satisfied: scipy>=1.8.0 in /usr/local/lib/python3.11/dist-packages (from scikit-learn>=1.4.2->scikeras) (1.15.3)\n",
            "Requirement already satisfied: joblib>=1.2.0 in /usr/local/lib/python3.11/dist-packages (from scikit-learn>=1.4.2->scikeras) (1.5.1)\n",
            "Requirement already satisfied: threadpoolctl>=3.1.0 in /usr/local/lib/python3.11/dist-packages (from scikit-learn>=1.4.2->scikeras) (3.6.0)\n",
            "Requirement already satisfied: typing-extensions>=4.6.0 in /usr/local/lib/python3.11/dist-packages (from optree->keras>=3.2.0->scikeras) (4.14.0)\n",
            "Requirement already satisfied: markdown-it-py>=2.2.0 in /usr/local/lib/python3.11/dist-packages (from rich->keras>=3.2.0->scikeras) (3.0.0)\n",
            "Requirement already satisfied: pygments<3.0.0,>=2.13.0 in /usr/local/lib/python3.11/dist-packages (from rich->keras>=3.2.0->scikeras) (2.19.2)\n",
            "Requirement already satisfied: mdurl~=0.1 in /usr/local/lib/python3.11/dist-packages (from markdown-it-py>=2.2.0->rich->keras>=3.2.0->scikeras) (0.1.2)\n"
          ]
        }
      ]
    },
    {
      "cell_type": "code",
      "source": [
        "!pip install --upgrade scikeras scikit-learn"
      ],
      "metadata": {
        "colab": {
          "base_uri": "https://localhost:8080/"
        },
        "id": "fHimb7JWxlTH",
        "outputId": "cd990ca7-da20-4843-f0f6-c6732bd95c7a"
      },
      "execution_count": null,
      "outputs": [
        {
          "output_type": "stream",
          "name": "stdout",
          "text": [
            "Requirement already satisfied: scikeras in /usr/local/lib/python3.11/dist-packages (0.13.0)\n",
            "Requirement already satisfied: scikit-learn in /usr/local/lib/python3.11/dist-packages (1.7.0)\n",
            "Requirement already satisfied: keras>=3.2.0 in /usr/local/lib/python3.11/dist-packages (from scikeras) (3.8.0)\n",
            "Requirement already satisfied: numpy>=1.22.0 in /usr/local/lib/python3.11/dist-packages (from scikit-learn) (2.0.2)\n",
            "Requirement already satisfied: scipy>=1.8.0 in /usr/local/lib/python3.11/dist-packages (from scikit-learn) (1.15.3)\n",
            "Requirement already satisfied: joblib>=1.2.0 in /usr/local/lib/python3.11/dist-packages (from scikit-learn) (1.5.1)\n",
            "Requirement already satisfied: threadpoolctl>=3.1.0 in /usr/local/lib/python3.11/dist-packages (from scikit-learn) (3.6.0)\n",
            "Requirement already satisfied: absl-py in /usr/local/lib/python3.11/dist-packages (from keras>=3.2.0->scikeras) (1.4.0)\n",
            "Requirement already satisfied: rich in /usr/local/lib/python3.11/dist-packages (from keras>=3.2.0->scikeras) (13.9.4)\n",
            "Requirement already satisfied: namex in /usr/local/lib/python3.11/dist-packages (from keras>=3.2.0->scikeras) (0.1.0)\n",
            "Requirement already satisfied: h5py in /usr/local/lib/python3.11/dist-packages (from keras>=3.2.0->scikeras) (3.14.0)\n",
            "Requirement already satisfied: optree in /usr/local/lib/python3.11/dist-packages (from keras>=3.2.0->scikeras) (0.16.0)\n",
            "Requirement already satisfied: ml-dtypes in /usr/local/lib/python3.11/dist-packages (from keras>=3.2.0->scikeras) (0.4.1)\n",
            "Requirement already satisfied: packaging in /usr/local/lib/python3.11/dist-packages (from keras>=3.2.0->scikeras) (24.2)\n",
            "Requirement already satisfied: typing-extensions>=4.6.0 in /usr/local/lib/python3.11/dist-packages (from optree->keras>=3.2.0->scikeras) (4.14.0)\n",
            "Requirement already satisfied: markdown-it-py>=2.2.0 in /usr/local/lib/python3.11/dist-packages (from rich->keras>=3.2.0->scikeras) (3.0.0)\n",
            "Requirement already satisfied: pygments<3.0.0,>=2.13.0 in /usr/local/lib/python3.11/dist-packages (from rich->keras>=3.2.0->scikeras) (2.19.2)\n",
            "Requirement already satisfied: mdurl~=0.1 in /usr/local/lib/python3.11/dist-packages (from markdown-it-py>=2.2.0->rich->keras>=3.2.0->scikeras) (0.1.2)\n"
          ]
        }
      ]
    },
    {
      "cell_type": "code",
      "execution_count": null,
      "metadata": {
        "id": "robO03xjo0My"
      },
      "outputs": [],
      "source": [
        "# 1. Importar librerías\n",
        "import pandas as pd\n",
        "import numpy as np\n",
        "import matplotlib.pyplot as plt\n",
        "import seaborn as sns\n",
        "\n",
        "# para crear la red neuronal\n",
        "from tensorflow.keras.models import Sequential\n",
        "from tensorflow.keras.layers import Dense, Dropout\n",
        "from tensorflow.keras import regularizers\n",
        "from tensorflow.keras.optimizers import SGD\n",
        "from scikeras.wrappers import KerasClassifier\n",
        "from tensorflow.keras.layers import Dropout\n",
        "from sklearn.model_selection import GridSearchCV\n",
        "\n",
        "# para búsqueda de grilla\n",
        "from sklearn.model_selection import GridSearchCV\n",
        "\n",
        "# para procesamiento\n",
        "from sklearn.preprocessing import StandardScaler, LabelEncoder\n",
        "from sklearn.metrics import confusion_matrix, classification_report, roc_curve, auc\n",
        "from sklearn.model_selection import train_test_split\n",
        "\n",
        "# para ignorar warnings\n",
        "import warnings\n",
        "warnings.filterwarnings('ignore')\n"
      ]
    },
    {
      "cell_type": "markdown",
      "source": [
        "Carda de datos"
      ],
      "metadata": {
        "id": "mro5mAsNrQvI"
      }
    },
    {
      "cell_type": "code",
      "source": [
        "# 2. Cargar el archivo\n",
        "df = pd.read_csv('/content/hotel_bookings.csv')\n",
        "\n",
        "# 3. Eliminar las columnas solicitadas\n",
        "cols_to_drop = [\n",
        "    'index',\n",
        "    'arrival_date_year',\n",
        "    'agent',\n",
        "    'country',\n",
        "    'company',\n",
        "    'reservation_status',\n",
        "    'reservation_status_date'\n",
        "]\n",
        "\n",
        "df.drop(columns=cols_to_drop, inplace=True, errors='ignore')  # en caso de no existir 'index' en el archivo\n",
        "\n",
        "# 4. Revisar valores nulos\n",
        "null_counts = df.isnull().sum()\n",
        "total_rows = df.shape[0]\n",
        "\n",
        "# mostrar el porcentaje de nulos\n",
        "null_percent = (null_counts / total_rows) * 100\n",
        "print(\"Porcentaje de valores nulos por columna:\")\n",
        "print(null_percent[null_percent > 0])\n",
        "\n",
        "# 5. Decidir estrategia\n",
        "if null_percent.sum() == 0:\n",
        "    print(\"No hay valores nulos, seguimos sin problemas.\")\n",
        "else:\n",
        "    # si el total de valores nulos es menor al 4% del total de registros, eliminamos filas con nulos\n",
        "    total_missing = df.isnull().any(axis=1).sum()\n",
        "    missing_percent = total_missing / total_rows * 100\n",
        "\n",
        "    print(f\"Total de registros con al menos un nulo: {total_missing} ({missing_percent:.2f}%)\")\n",
        "\n",
        "    if missing_percent < 4:\n",
        "        df.dropna(inplace=True)\n",
        "        print(\"Se eliminaron los registros con nulos porque representan menos del 4% del total.\")\n",
        "    else:\n",
        "        # en caso mayor al 4% te muestro la estrategia que podríamos aplicar\n",
        "        print(\"Hay más del 4% de registros con valores nulos. Te sugiero imputar los datos según el tipo de variable:\")\n",
        "        for col in df.columns:\n",
        "            if df[col].isnull().sum() > 0:\n",
        "                if df[col].dtype == 'object':\n",
        "                    print(f\"- Columna {col}: imputar con la moda (valor más frecuente).\")\n",
        "                    mode = df[col].mode()[0]\n",
        "                    df[col].fillna(mode, inplace=True)\n",
        "                else:\n",
        "                    print(f\"- Columna {col}: imputar con la mediana.\")\n",
        "                    median = df[col].median()\n",
        "                    df[col].fillna(median, inplace=True)\n",
        "        print(\"Datos faltantes imputados correctamente.\")\n",
        "\n",
        "# confirmar forma final del dataset\n",
        "print(\"Shape final del dataframe:\", df.shape)"
      ],
      "metadata": {
        "colab": {
          "base_uri": "https://localhost:8080/"
        },
        "id": "2nArdUiarPQn",
        "outputId": "990cbc79-9a7a-4de7-a12e-72cb405ffc98"
      },
      "execution_count": null,
      "outputs": [
        {
          "output_type": "stream",
          "name": "stdout",
          "text": [
            "Porcentaje de valores nulos por columna:\n",
            "children    0.00335\n",
            "dtype: float64\n",
            "Total de registros con al menos un nulo: 4 (0.00%)\n",
            "Se eliminaron los registros con nulos porque representan menos del 4% del total.\n",
            "Shape final del dataframe: (119386, 26)\n"
          ]
        }
      ]
    },
    {
      "cell_type": "markdown",
      "source": [
        "# Analisis Descriptivo"
      ],
      "metadata": {
        "id": "1xNq8uq3sYY0"
      }
    },
    {
      "cell_type": "markdown",
      "source": [
        "Variables Seleccionadas consideradas relevantes:\n",
        "\n",
        "lead_time: mayor anticipación puede relacionarse con mayor probabilidad de\n",
        "cancelación\n",
        "\n",
        "previous_cancellations: historial de cancelaciones del cliente\n",
        "\n",
        "deposit_type: si pagó/no pagó depósito influye\n",
        "\n",
        "is_repeated_guest: clientes repetidos podrían cancelar menos\n",
        "total_of_special_requests: clientes con peticiones especiales podrían cancelar menos"
      ],
      "metadata": {
        "id": "edUt6ZIBsq5C"
      }
    },
    {
      "cell_type": "code",
      "source": [
        "# Histograma de adr por is_canceled\n",
        "plt.figure(figsize=(10,6))\n",
        "sns.histplot(data=df, x=\"adr\", hue=\"is_canceled\", bins=50, kde=False, multiple=\"stack\")\n",
        "plt.xlabel(\"Tarifa media diaria (adr)\")\n",
        "plt.ylabel(\"Cantidad de reservas\")\n",
        "plt.title(\"Distribución de adr según cancelación de la reserva\")\n",
        "plt.show()"
      ],
      "metadata": {
        "colab": {
          "base_uri": "https://localhost:8080/",
          "height": 565
        },
        "id": "1u8oAH2esbMf",
        "outputId": "ac541298-4447-4ab4-a975-7efbef2a884e"
      },
      "execution_count": null,
      "outputs": [
        {
          "output_type": "display_data",
          "data": {
            "text/plain": [
              "<Figure size 1000x600 with 1 Axes>"
            ],
            "image/png": "[encoded data removed]"
          },
          "metadata": {}
        }
      ]
    },
    {
      "cell_type": "markdown",
      "source": [
        "Revisar outliers en adr"
      ],
      "metadata": {
        "id": "mcAGqxA0t9b8"
      }
    },
    {
      "cell_type": "code",
      "source": [
        "# Revisar outliers usando el método IQR\n",
        "Q1 = df['adr'].quantile(0.25)\n",
        "Q3 = df['adr'].quantile(0.75)\n",
        "IQR = Q3 - Q1\n",
        "\n",
        "# límites\n",
        "lower_bound = Q1 - 1.5 * IQR\n",
        "upper_bound = Q3 + 1.5 * IQR\n",
        "\n",
        "# identificar outliers\n",
        "outliers_low = df[df['adr'] < lower_bound]\n",
        "outliers_high = df[df['adr'] > upper_bound]\n",
        "\n",
        "print(f\"Cantidad de outliers por abajo: {outliers_low.shape[0]}\")\n",
        "print(f\"Cantidad de outliers por arriba: {outliers_high.shape[0]}\")\n",
        "\n",
        "# eliminar sólo los tres valores más extremos arriba y abajo\n",
        "# para el resto imputamos con la media\n",
        "adr_mean = df['adr'].mean()\n",
        "\n",
        "# ordenar para encontrar los 3 más extremos\n",
        "lowest_extremes = outliers_low.sort_values(by=\"adr\").head(3).index\n",
        "highest_extremes = outliers_high.sort_values(by=\"adr\", ascending=False).head(3).index\n",
        "\n",
        "# eliminamos estos tres extremos de cada lado\n",
        "df.drop(index=lowest_extremes, inplace=True)\n",
        "df.drop(index=highest_extremes, inplace=True)\n",
        "\n",
        "# para el resto de outliers sustituimos por la media\n",
        "df.loc[df['adr'] < lower_bound, 'adr'] = adr_mean\n",
        "df.loc[df['adr'] > upper_bound, 'adr'] = adr_mean\n",
        "\n",
        "print(\"Extremos más graves eliminados, el resto de outliers sustituidos por la media de adr.\")"
      ],
      "metadata": {
        "colab": {
          "base_uri": "https://localhost:8080/"
        },
        "id": "q59rCYtKtCjz",
        "outputId": "a2d0c2c8-35e1-44e2-95b6-86bffce761cc"
      },
      "execution_count": null,
      "outputs": [
        {
          "output_type": "stream",
          "name": "stdout",
          "text": [
            "Cantidad de outliers por abajo: 0\n",
            "Cantidad de outliers por arriba: 3793\n",
            "Extremos más graves eliminados, el resto de outliers sustituidos por la media de adr.\n"
          ]
        }
      ]
    },
    {
      "cell_type": "markdown",
      "source": [
        "Preparar dummies, estandarizar y split de entrenamiento/test"
      ],
      "metadata": {
        "id": "am5gAUfpt_q2"
      }
    },
    {
      "cell_type": "code",
      "source": [
        "# crear dummies\n",
        "df_dummies = pd.get_dummies(df, drop_first=True)\n",
        "\n",
        "# separar variables\n",
        "X = df_dummies.drop(\"is_canceled\", axis=1)\n",
        "y = df_dummies[\"is_canceled\"]\n",
        "\n",
        "# estandarizar\n",
        "from sklearn.preprocessing import StandardScaler\n",
        "scaler = StandardScaler()\n",
        "X_scaled = scaler.fit_transform(X)\n",
        "\n",
        "# división de datos\n",
        "from sklearn.model_selection import train_test_split\n",
        "X_train, X_test, y_train, y_test = train_test_split(\n",
        "    X_scaled, y, test_size=0.33, random_state=42, stratify=y\n",
        ")\n",
        "\n",
        "print(\"X_train shape:\", X_train.shape)\n",
        "print(\"X_test shape:\", X_test.shape)"
      ],
      "metadata": {
        "colab": {
          "base_uri": "https://localhost:8080/"
        },
        "id": "eHI1oCTFuCdl",
        "outputId": "22d1b112-8eb1-4a9d-af62-731a26ca90af"
      },
      "execution_count": null,
      "outputs": [
        {
          "output_type": "stream",
          "name": "stdout",
          "text": [
            "X_train shape: (79986, 67)\n",
            "X_test shape: (39397, 67)\n"
          ]
        }
      ]
    },
    {
      "cell_type": "markdown",
      "source": [
        "# Implementa dos modelos de red neuronal multicapa"
      ],
      "metadata": {
        "id": "EAQEJMaeueEi"
      }
    },
    {
      "cell_type": "code",
      "source": [
        "# configuración inicialización\n",
        "weight_init = \"glorot_uniform\"\n",
        "bias_init = \"zeros\"\n",
        "\n",
        "# --------------- Modelo 1 ----------------\n",
        "model1 = Sequential([\n",
        "    Dense(20, activation=\"tanh\", kernel_initializer=weight_init, bias_initializer=bias_init, input_shape=(X_train.shape[1],)),\n",
        "    Dense(20, activation=\"relu\", kernel_initializer=weight_init, bias_initializer=bias_init),\n",
        "    Dense(20, activation=\"tanh\", kernel_initializer=weight_init, bias_initializer=bias_init),\n",
        "    Dense(1, activation=\"sigmoid\", kernel_initializer=weight_init, bias_initializer=bias_init)\n",
        "])\n",
        "\n",
        "# compilación\n",
        "model1.compile(optimizer=SGD(), loss=\"binary_crossentropy\", metrics=[\"accuracy\"])\n",
        "\n",
        "# entrenamiento\n",
        "history1 = model1.fit(X_train, y_train, epochs=10, batch_size=32, verbose=1)\n",
        "\n",
        "# --------------- Modelo 2 ----------------\n",
        "model2 = Sequential([\n",
        "    Dense(20, activation=\"tanh\", kernel_initializer=weight_init, bias_initializer=bias_init, input_shape=(X_train.shape[1],)),\n",
        "    Dense(20, activation=\"tanh\", kernel_initializer=weight_init, bias_initializer=bias_init),\n",
        "    Dense(20, activation=\"tanh\", kernel_initializer=weight_init, bias_initializer=bias_init),\n",
        "    Dense(1, activation=\"sigmoid\", kernel_initializer=weight_init, bias_initializer=bias_init)\n",
        "])\n",
        "\n",
        "# compilación\n",
        "model2.compile(optimizer=SGD(), loss=\"binary_crossentropy\", metrics=[\"accuracy\"])\n",
        "\n",
        "# entrenamiento\n",
        "history2 = model2.fit(X_train, y_train, epochs=10, batch_size=32, verbose=1)\n"
      ],
      "metadata": {
        "colab": {
          "base_uri": "https://localhost:8080/"
        },
        "id": "JzbyNbX8uinb",
        "outputId": "4315fdab-65dc-4e75-d8fa-8cf124e733bb"
      },
      "execution_count": null,
      "outputs": [
        {
          "output_type": "stream",
          "name": "stdout",
          "text": [
            "Epoch 1/10\n",
            "\u001b[1m2500/2500\u001b[0m \u001b[32m━━━━━━━━━━━━━━━━━━━━\u001b[0m\u001b[37m\u001b[0m \u001b[1m12s\u001b[0m 4ms/step - accuracy: 0.7173 - loss: 0.5609\n",
            "Epoch 2/10\n",
            "\u001b[1m2500/2500\u001b[0m \u001b[32m━━━━━━━━━━━━━━━━━━━━\u001b[0m\u001b[37m\u001b[0m \u001b[1m12s\u001b[0m 5ms/step - accuracy: 0.7956 - loss: 0.4330\n",
            "Epoch 3/10\n",
            "\u001b[1m2500/2500\u001b[0m \u001b[32m━━━━━━━━━━━━━━━━━━━━\u001b[0m\u001b[37m\u001b[0m \u001b[1m12s\u001b[0m 5ms/step - accuracy: 0.8056 - loss: 0.4131\n",
            "Epoch 4/10\n",
            "\u001b[1m2500/2500\u001b[0m \u001b[32m━━━━━━━━━━━━━━━━━━━━\u001b[0m\u001b[37m\u001b[0m \u001b[1m5s\u001b[0m 2ms/step - accuracy: 0.8130 - loss: 0.3998\n",
            "Epoch 5/10\n",
            "\u001b[1m2500/2500\u001b[0m \u001b[32m━━━━━━━━━━━━━━━━━━━━\u001b[0m\u001b[37m\u001b[0m \u001b[1m4s\u001b[0m 2ms/step - accuracy: 0.8163 - loss: 0.3933\n",
            "Epoch 6/10\n",
            "\u001b[1m2500/2500\u001b[0m \u001b[32m━━━━━━━━━━━━━━━━━━━━\u001b[0m\u001b[37m\u001b[0m \u001b[1m5s\u001b[0m 2ms/step - accuracy: 0.8191 - loss: 0.3914\n",
            "Epoch 7/10\n",
            "\u001b[1m2500/2500\u001b[0m \u001b[32m━━━━━━━━━━━━━━━━━━━━\u001b[0m\u001b[37m\u001b[0m \u001b[1m5s\u001b[0m 2ms/step - accuracy: 0.8208 - loss: 0.3873\n",
            "Epoch 8/10\n",
            "\u001b[1m2500/2500\u001b[0m \u001b[32m━━━━━━━━━━━━━━━━━━━━\u001b[0m\u001b[37m\u001b[0m \u001b[1m4s\u001b[0m 2ms/step - accuracy: 0.8174 - loss: 0.3884\n",
            "Epoch 9/10\n",
            "\u001b[1m2500/2500\u001b[0m \u001b[32m━━━━━━━━━━━━━━━━━━━━\u001b[0m\u001b[37m\u001b[0m \u001b[1m4s\u001b[0m 2ms/step - accuracy: 0.8233 - loss: 0.3821\n",
            "Epoch 10/10\n",
            "\u001b[1m2500/2500\u001b[0m \u001b[32m━━━━━━━━━━━━━━━━━━━━\u001b[0m\u001b[37m\u001b[0m \u001b[1m5s\u001b[0m 2ms/step - accuracy: 0.8218 - loss: 0.3838\n",
            "Epoch 1/10\n",
            "\u001b[1m2500/2500\u001b[0m \u001b[32m━━━━━━━━━━━━━━━━━━━━\u001b[0m\u001b[37m\u001b[0m \u001b[1m4s\u001b[0m 2ms/step - accuracy: 0.7232 - loss: 0.5567\n",
            "Epoch 2/10\n",
            "\u001b[1m2500/2500\u001b[0m \u001b[32m━━━━━━━━━━━━━━━━━━━━\u001b[0m\u001b[37m\u001b[0m \u001b[1m5s\u001b[0m 2ms/step - accuracy: 0.7983 - loss: 0.4359\n",
            "Epoch 3/10\n",
            "\u001b[1m2500/2500\u001b[0m \u001b[32m━━━━━━━━━━━━━━━━━━━━\u001b[0m\u001b[37m\u001b[0m \u001b[1m4s\u001b[0m 2ms/step - accuracy: 0.8064 - loss: 0.4155\n",
            "Epoch 4/10\n",
            "\u001b[1m2500/2500\u001b[0m \u001b[32m━━━━━━━━━━━━━━━━━━━━\u001b[0m\u001b[37m\u001b[0m \u001b[1m4s\u001b[0m 2ms/step - accuracy: 0.8109 - loss: 0.4050\n",
            "Epoch 5/10\n",
            "\u001b[1m2500/2500\u001b[0m \u001b[32m━━━━━━━━━━━━━━━━━━━━\u001b[0m\u001b[37m\u001b[0m \u001b[1m5s\u001b[0m 2ms/step - accuracy: 0.8142 - loss: 0.3980\n",
            "Epoch 6/10\n",
            "\u001b[1m2500/2500\u001b[0m \u001b[32m━━━━━━━━━━━━━━━━━━━━\u001b[0m\u001b[37m\u001b[0m \u001b[1m4s\u001b[0m 2ms/step - accuracy: 0.8147 - loss: 0.3956\n",
            "Epoch 7/10\n",
            "\u001b[1m2500/2500\u001b[0m \u001b[32m━━━━━━━━━━━━━━━━━━━━\u001b[0m\u001b[37m\u001b[0m \u001b[1m7s\u001b[0m 2ms/step - accuracy: 0.8179 - loss: 0.3904\n",
            "Epoch 8/10\n",
            "\u001b[1m2500/2500\u001b[0m \u001b[32m━━━━━━━━━━━━━━━━━━━━\u001b[0m\u001b[37m\u001b[0m \u001b[1m4s\u001b[0m 2ms/step - accuracy: 0.8187 - loss: 0.3867\n",
            "Epoch 9/10\n",
            "\u001b[1m2500/2500\u001b[0m \u001b[32m━━━━━━━━━━━━━━━━━━━━\u001b[0m\u001b[37m\u001b[0m \u001b[1m5s\u001b[0m 2ms/step - accuracy: 0.8181 - loss: 0.3873\n",
            "Epoch 10/10\n",
            "\u001b[1m2500/2500\u001b[0m \u001b[32m━━━━━━━━━━━━━━━━━━━━\u001b[0m\u001b[37m\u001b[0m \u001b[1m5s\u001b[0m 2ms/step - accuracy: 0.8222 - loss: 0.3841\n"
          ]
        }
      ]
    },
    {
      "cell_type": "code",
      "source": [
        "# --------------- Graficar accuracies ----------------\n",
        "plt.figure(figsize=(10,6))\n",
        "plt.plot(history1.history['accuracy'], label='Modelo 1 (tanh-relu-tanh)')\n",
        "plt.plot(history2.history['accuracy'], label='Modelo 2 (tanh-tanh-tanh)')\n",
        "plt.xlabel(\"Épocas\")\n",
        "plt.ylabel(\"Accuracy\")\n",
        "plt.title(\"Curvas de accuracy de entrenamiento\")\n",
        "plt.legend()\n",
        "plt.show()"
      ],
      "metadata": {
        "colab": {
          "base_uri": "https://localhost:8080/",
          "height": 566
        },
        "id": "yJFQW-BIu8Al",
        "outputId": "6f2a93a0-0eb5-4a3b-cbe9-5ae5343a8cdf"
      },
      "execution_count": null,
      "outputs": [
        {
          "output_type": "display_data",
          "data": {
            "text/plain": [
              "<Figure size 1000x600 with 1 Axes>"
            ],
            "image/png": "[encoded data removed]"
          },
          "metadata": {}
        }
      ]
    },
    {
      "cell_type": "markdown",
      "source": [
        "Ambos modelos logran superar el umbral de 75% de accuracy propuesto, siendo el modelo con activación relu intermedia (Modelo 1) el que mostró mejor desempeño en términos de rapidez de convergencia y estabilidad de aprendizaje."
      ],
      "metadata": {
        "id": "9HeLHMr6v3dL"
      }
    },
    {
      "cell_type": "markdown",
      "source": [
        "# Construye una red neuronal con regularización Dropout aplicando búsqueda de grilla para tres fold"
      ],
      "metadata": {
        "id": "VqQbrzBIv4lk"
      }
    },
    {
      "cell_type": "markdown",
      "source": [
        "Definiremos la función generadora de modelos para pasarla a la grilla:"
      ],
      "metadata": {
        "id": "OpK2ZxT3wzMr"
      }
    },
    {
      "cell_type": "code",
      "source": [
        "def build_model(hidden_layers=3,\n",
        "                optimizer=\"adam\",\n",
        "                learning_rate=0.03,\n",
        "                weight_init=\"glorot_uniform\",\n",
        "                dropout_rate=0.001):\n",
        "\n",
        "    from tensorflow.keras.optimizers import SGD, Adam\n",
        "    from tensorflow.keras import Sequential\n",
        "    from tensorflow.keras.layers import Dense, Dropout\n",
        "\n",
        "    if optimizer == \"adam\":\n",
        "        opt = Adam(learning_rate=learning_rate)\n",
        "    else:\n",
        "        opt = SGD(learning_rate=learning_rate)\n",
        "\n",
        "    model = Sequential()\n",
        "    model.add(Dense(20, activation=\"tanh\", kernel_initializer=weight_init, input_shape=(X_train.shape[1],)))\n",
        "    model.add(Dropout(dropout_rate))\n",
        "\n",
        "    for i in range(hidden_layers-1):\n",
        "        model.add(Dense(20, activation=\"tanh\", kernel_initializer=weight_init))\n",
        "        model.add(Dropout(dropout_rate))\n",
        "\n",
        "    model.add(Dense(1, activation=\"sigmoid\"))\n",
        "\n",
        "    model.compile(optimizer=opt, loss=\"binary_crossentropy\", metrics=[\"accuracy\"])\n",
        "\n",
        "    return model"
      ],
      "metadata": {
        "id": "Z_PLlIeIwhxN"
      },
      "execution_count": null,
      "outputs": []
    },
    {
      "cell_type": "markdown",
      "source": [
        "definir el grid de hiperparámetros"
      ],
      "metadata": {
        "id": "Atvz7ybPw3mH"
      }
    },
    {
      "cell_type": "code",
      "source": [
        "# definimos el wrapper con los nombres correctos\n",
        "keras_clf = KerasClassifier(\n",
        "    model=build_model,\n",
        "    epochs=10,\n",
        "    batch_size=32,\n",
        "    verbose=0\n",
        ")\n",
        "\n",
        "# grid de hiperparámetros usando el prefijo model__\n",
        "param_grid = {\n",
        "    \"model__hidden_layers\": [3, 4],\n",
        "    \"model__optimizer\": [\"adam\", \"sgd\"],\n",
        "    \"model__learning_rate\": [0.03, 0.06],\n",
        "    \"model__weight_init\": [\"glorot_uniform\", \"glorot_normal\"],\n",
        "    \"model__dropout_rate\": [0.001]\n",
        "}\n",
        "\n",
        "# GridSearchCV con 3 folds\n",
        "grid = GridSearchCV(\n",
        "    estimator=keras_clf,\n",
        "    param_grid=param_grid,\n",
        "    cv=3,\n",
        "    scoring=\"accuracy\",\n",
        "    verbose=2\n",
        ")\n",
        "\n",
        "# ajuste\n",
        "grid_result = grid.fit(X_train, y_train)\n",
        "\n"
      ],
      "metadata": {
        "colab": {
          "base_uri": "https://localhost:8080/"
        },
        "id": "gfUvma8Zw6z8",
        "outputId": "1a3b30d7-0bab-4900-c6c8-18def9a34001"
      },
      "execution_count": null,
      "outputs": [
        {
          "output_type": "stream",
          "name": "stdout",
          "text": [
            "Fitting 3 folds for each of 16 candidates, totalling 48 fits\n",
            "[CV] END model__dropout_rate=0.001, model__hidden_layers=3, model__learning_rate=0.03, model__optimizer=adam, model__weight_init=glorot_uniform; total time=  55.1s\n",
            "[CV] END model__dropout_rate=0.001, model__hidden_layers=3, model__learning_rate=0.03, model__optimizer=adam, model__weight_init=glorot_uniform; total time=  52.0s\n",
            "[CV] END model__dropout_rate=0.001, model__hidden_layers=3, model__learning_rate=0.03, model__optimizer=adam, model__weight_init=glorot_uniform; total time=  48.6s\n",
            "[CV] END model__dropout_rate=0.001, model__hidden_layers=3, model__learning_rate=0.03, model__optimizer=adam, model__weight_init=glorot_normal; total time=  53.4s\n",
            "[CV] END model__dropout_rate=0.001, model__hidden_layers=3, model__learning_rate=0.03, model__optimizer=adam, model__weight_init=glorot_normal; total time=  40.0s\n",
            "[CV] END model__dropout_rate=0.001, model__hidden_layers=3, model__learning_rate=0.03, model__optimizer=adam, model__weight_init=glorot_normal; total time=  47.0s\n",
            "[CV] END model__dropout_rate=0.001, model__hidden_layers=3, model__learning_rate=0.03, model__optimizer=sgd, model__weight_init=glorot_uniform; total time=  48.6s\n",
            "[CV] END model__dropout_rate=0.001, model__hidden_layers=3, model__learning_rate=0.03, model__optimizer=sgd, model__weight_init=glorot_uniform; total time=  39.2s\n",
            "[CV] END model__dropout_rate=0.001, model__hidden_layers=3, model__learning_rate=0.03, model__optimizer=sgd, model__weight_init=glorot_uniform; total time=  44.6s\n",
            "[CV] END model__dropout_rate=0.001, model__hidden_layers=3, model__learning_rate=0.03, model__optimizer=sgd, model__weight_init=glorot_normal; total time=  50.2s\n",
            "[CV] END model__dropout_rate=0.001, model__hidden_layers=3, model__learning_rate=0.03, model__optimizer=sgd, model__weight_init=glorot_normal; total time=  46.3s\n",
            "[CV] END model__dropout_rate=0.001, model__hidden_layers=3, model__learning_rate=0.03, model__optimizer=sgd, model__weight_init=glorot_normal; total time=  41.6s\n",
            "[CV] END model__dropout_rate=0.001, model__hidden_layers=3, model__learning_rate=0.06, model__optimizer=adam, model__weight_init=glorot_uniform; total time=  52.6s\n",
            "[CV] END model__dropout_rate=0.001, model__hidden_layers=3, model__learning_rate=0.06, model__optimizer=adam, model__weight_init=glorot_uniform; total time=  46.1s\n",
            "[CV] END model__dropout_rate=0.001, model__hidden_layers=3, model__learning_rate=0.06, model__optimizer=adam, model__weight_init=glorot_uniform; total time=  41.0s\n",
            "[CV] END model__dropout_rate=0.001, model__hidden_layers=3, model__learning_rate=0.06, model__optimizer=adam, model__weight_init=glorot_normal; total time=  48.9s\n",
            "[CV] END model__dropout_rate=0.001, model__hidden_layers=3, model__learning_rate=0.06, model__optimizer=adam, model__weight_init=glorot_normal; total time=  54.7s\n",
            "[CV] END model__dropout_rate=0.001, model__hidden_layers=3, model__learning_rate=0.06, model__optimizer=adam, model__weight_init=glorot_normal; total time=  45.1s\n",
            "[CV] END model__dropout_rate=0.001, model__hidden_layers=3, model__learning_rate=0.06, model__optimizer=sgd, model__weight_init=glorot_uniform; total time=  44.7s\n",
            "[CV] END model__dropout_rate=0.001, model__hidden_layers=3, model__learning_rate=0.06, model__optimizer=sgd, model__weight_init=glorot_uniform; total time=  39.7s\n",
            "[CV] END model__dropout_rate=0.001, model__hidden_layers=3, model__learning_rate=0.06, model__optimizer=sgd, model__weight_init=glorot_uniform; total time=  46.1s\n",
            "[CV] END model__dropout_rate=0.001, model__hidden_layers=3, model__learning_rate=0.06, model__optimizer=sgd, model__weight_init=glorot_normal; total time=  46.1s\n",
            "[CV] END model__dropout_rate=0.001, model__hidden_layers=3, model__learning_rate=0.06, model__optimizer=sgd, model__weight_init=glorot_normal; total time=  51.1s\n",
            "[CV] END model__dropout_rate=0.001, model__hidden_layers=3, model__learning_rate=0.06, model__optimizer=sgd, model__weight_init=glorot_normal; total time=  46.5s\n",
            "[CV] END model__dropout_rate=0.001, model__hidden_layers=4, model__learning_rate=0.03, model__optimizer=adam, model__weight_init=glorot_uniform; total time=  44.2s\n",
            "[CV] END model__dropout_rate=0.001, model__hidden_layers=4, model__learning_rate=0.03, model__optimizer=adam, model__weight_init=glorot_uniform; total time=  50.0s\n",
            "[CV] END model__dropout_rate=0.001, model__hidden_layers=4, model__learning_rate=0.03, model__optimizer=adam, model__weight_init=glorot_uniform; total time=  47.9s\n",
            "[CV] END model__dropout_rate=0.001, model__hidden_layers=4, model__learning_rate=0.03, model__optimizer=adam, model__weight_init=glorot_normal; total time=  45.2s\n",
            "[CV] END model__dropout_rate=0.001, model__hidden_layers=4, model__learning_rate=0.03, model__optimizer=adam, model__weight_init=glorot_normal; total time=  45.7s\n",
            "[CV] END model__dropout_rate=0.001, model__hidden_layers=4, model__learning_rate=0.03, model__optimizer=adam, model__weight_init=glorot_normal; total time=  41.8s\n",
            "[CV] END model__dropout_rate=0.001, model__hidden_layers=4, model__learning_rate=0.03, model__optimizer=sgd, model__weight_init=glorot_uniform; total time=  47.4s\n",
            "[CV] END model__dropout_rate=0.001, model__hidden_layers=4, model__learning_rate=0.03, model__optimizer=sgd, model__weight_init=glorot_uniform; total time=  44.3s\n",
            "[CV] END model__dropout_rate=0.001, model__hidden_layers=4, model__learning_rate=0.03, model__optimizer=sgd, model__weight_init=glorot_uniform; total time=  43.9s\n",
            "[CV] END model__dropout_rate=0.001, model__hidden_layers=4, model__learning_rate=0.03, model__optimizer=sgd, model__weight_init=glorot_normal; total time=  40.5s\n",
            "[CV] END model__dropout_rate=0.001, model__hidden_layers=4, model__learning_rate=0.03, model__optimizer=sgd, model__weight_init=glorot_normal; total time=  47.8s\n",
            "[CV] END model__dropout_rate=0.001, model__hidden_layers=4, model__learning_rate=0.03, model__optimizer=sgd, model__weight_init=glorot_normal; total time=  47.7s\n",
            "[CV] END model__dropout_rate=0.001, model__hidden_layers=4, model__learning_rate=0.06, model__optimizer=adam, model__weight_init=glorot_uniform; total time=  47.1s\n",
            "[CV] END model__dropout_rate=0.001, model__hidden_layers=4, model__learning_rate=0.06, model__optimizer=adam, model__weight_init=glorot_uniform; total time=  53.5s\n",
            "[CV] END model__dropout_rate=0.001, model__hidden_layers=4, model__learning_rate=0.06, model__optimizer=adam, model__weight_init=glorot_uniform; total time=  44.0s\n",
            "[CV] END model__dropout_rate=0.001, model__hidden_layers=4, model__learning_rate=0.06, model__optimizer=adam, model__weight_init=glorot_normal; total time=  48.7s\n",
            "[CV] END model__dropout_rate=0.001, model__hidden_layers=4, model__learning_rate=0.06, model__optimizer=adam, model__weight_init=glorot_normal; total time=  49.6s\n",
            "[CV] END model__dropout_rate=0.001, model__hidden_layers=4, model__learning_rate=0.06, model__optimizer=adam, model__weight_init=glorot_normal; total time=  48.1s\n",
            "[CV] END model__dropout_rate=0.001, model__hidden_layers=4, model__learning_rate=0.06, model__optimizer=sgd, model__weight_init=glorot_uniform; total time=  44.7s\n",
            "[CV] END model__dropout_rate=0.001, model__hidden_layers=4, model__learning_rate=0.06, model__optimizer=sgd, model__weight_init=glorot_uniform; total time=  46.2s\n",
            "[CV] END model__dropout_rate=0.001, model__hidden_layers=4, model__learning_rate=0.06, model__optimizer=sgd, model__weight_init=glorot_uniform; total time=  46.4s\n",
            "[CV] END model__dropout_rate=0.001, model__hidden_layers=4, model__learning_rate=0.06, model__optimizer=sgd, model__weight_init=glorot_normal; total time=  49.2s\n",
            "[CV] END model__dropout_rate=0.001, model__hidden_layers=4, model__learning_rate=0.06, model__optimizer=sgd, model__weight_init=glorot_normal; total time=  43.4s\n",
            "[CV] END model__dropout_rate=0.001, model__hidden_layers=4, model__learning_rate=0.06, model__optimizer=sgd, model__weight_init=glorot_normal; total time=  37.0s\n"
          ]
        }
      ]
    },
    {
      "cell_type": "markdown",
      "source": [
        "mejores hiperparametros"
      ],
      "metadata": {
        "id": "KfWBCqi3-hM3"
      }
    },
    {
      "cell_type": "code",
      "source": [
        "print(\"Mejores hiperparámetros encontrados:\")\n",
        "print(grid_result.best_params_)\n",
        "print(f\"Mejor accuracy validación cruzada: {grid_result.best_score_:.4f}\")"
      ],
      "metadata": {
        "colab": {
          "base_uri": "https://localhost:8080/"
        },
        "id": "G7T6JXGD-eDO",
        "outputId": "bcd86d91-834e-435b-ec01-15251201b1a3"
      },
      "execution_count": null,
      "outputs": [
        {
          "output_type": "stream",
          "name": "stdout",
          "text": [
            "Mejores hiperparámetros encontrados:\n",
            "{'model__dropout_rate': 0.001, 'model__hidden_layers': 4, 'model__learning_rate': 0.03, 'model__optimizer': 'sgd', 'model__weight_init': 'glorot_normal'}\n",
            "Mejor accuracy validación cruzada: 0.8217\n"
          ]
        }
      ]
    },
    {
      "cell_type": "markdown",
      "source": [
        "evaluar en el test set y métricas"
      ],
      "metadata": {
        "id": "es_dYsHX-8HT"
      }
    },
    {
      "cell_type": "code",
      "source": [
        "# obtener el mejor modelo ya ajustado\n",
        "best_model = grid_result.best_estimator_\n",
        "\n",
        "# predicciones\n",
        "y_pred_proba = best_model.predict_proba(X_test)[:,1]\n",
        "y_pred = (y_pred_proba >= 0.5).astype(int)\n",
        "\n",
        "# matriz de confusión\n",
        "cm = confusion_matrix(y_test, y_pred)\n",
        "print(\"Matriz de confusión:\")\n",
        "print(cm)\n",
        "\n",
        "# classification report\n",
        "print(\"\\nClassification Report:\")\n",
        "print(classification_report(y_test, y_pred))\n",
        "\n",
        "# curva ROC\n",
        "fpr, tpr, thresholds = roc_curve(y_test, y_pred_proba)\n",
        "roc_auc = auc(fpr, tpr)\n",
        "\n",
        "plt.figure(figsize=(8,6))\n",
        "plt.plot(fpr, tpr, color='blue', lw=2, label=f'ROC curve (AUC = {roc_auc:.2f})')\n",
        "plt.plot([0, 1], [0, 1], color='gray', linestyle='--')\n",
        "plt.xlabel('False Positive Rate')\n",
        "plt.ylabel('True Positive Rate')\n",
        "plt.title('Curva ROC del mejor modelo')\n",
        "plt.legend(loc=\"lower right\")\n",
        "plt.show()"
      ],
      "metadata": {
        "colab": {
          "base_uri": "https://localhost:8080/",
          "height": 807
        },
        "id": "n1nb3Sqx-8k0",
        "outputId": "d432378e-4091-4705-ebeb-e8f8770e7b24"
      },
      "execution_count": null,
      "outputs": [
        {
          "output_type": "stream",
          "name": "stdout",
          "text": [
            "Matriz de confusión:\n",
            "[[22512  2293]\n",
            " [ 4713  9879]]\n",
            "\n",
            "Classification Report:\n",
            "              precision    recall  f1-score   support\n",
            "\n",
            "           0       0.83      0.91      0.87     24805\n",
            "           1       0.81      0.68      0.74     14592\n",
            "\n",
            "    accuracy                           0.82     39397\n",
            "   macro avg       0.82      0.79      0.80     39397\n",
            "weighted avg       0.82      0.82      0.82     39397\n",
            "\n"
          ]
        },
        {
          "output_type": "display_data",
          "data": {
            "text/plain": [
              "<Figure size 800x600 with 1 Axes>"
            ],
            "image/png": "[encoded data removed]"
          },
          "metadata": {}
        }
      ]
    },
    {
      "cell_type": "markdown",
      "source": [
        "“La búsqueda de grilla permitió optimizar la arquitectura con regularización, logrando un accuracy superior al 80% en validación cruzada. La métrica AUC confirma un buen poder discriminativo del modelo en test.”"
      ],
      "metadata": {
        "id": "ovJkHx6H_Nok"
      }
    },
    {
      "cell_type": "markdown",
      "source": [
        "## Del conjunto original (sin los valores excluidos) escoge al azar cinco observaciones en que “deposit_type_Non Refund” sea cero, y con esto realiza una predicción usando el mejor modelo encontrado por la búsqueda de grilla anterior. Comenta los resultados."
      ],
      "metadata": {
        "id": "Mx73UZ5A_wHQ"
      }
    },
    {
      "cell_type": "code",
      "source": [
        "df_orig = pd.read_csv('/content/hotel_bookings.csv')\n"
      ],
      "metadata": {
        "id": "6BPRAo1o_zcI"
      },
      "execution_count": null,
      "outputs": []
    },
    {
      "cell_type": "code",
      "source": [
        "cols_to_drop = [\n",
        "    'index',\n",
        "    'arrival_date_year',\n",
        "    'agent',\n",
        "    'country',\n",
        "    'company',\n",
        "    'reservation_status',\n",
        "    'reservation_status_date'\n",
        "]\n",
        "df_orig.drop(columns=cols_to_drop, inplace=True, errors='ignore')"
      ],
      "metadata": {
        "id": "yl0cY-ZmAEzA"
      },
      "execution_count": null,
      "outputs": []
    },
    {
      "cell_type": "code",
      "source": [
        "# verificar nulos\n",
        "null_counts = df_orig.isnull().sum()\n",
        "total_rows = df_orig.shape[0]\n",
        "missing_percent = df_orig.isnull().any(axis=1).sum() / total_rows * 100\n",
        "\n",
        "if missing_percent < 4:\n",
        "    df_orig.dropna(inplace=True)\n",
        "else:\n",
        "    for col in df_orig.columns:\n",
        "        if df_orig[col].isnull().sum() > 0:\n",
        "            if df_orig[col].dtype == 'object':\n",
        "                df_orig[col].fillna(df_orig[col].mode()[0], inplace=True)\n",
        "            else:\n",
        "                df_orig[col].fillna(df_orig[col].median(), inplace=True)"
      ],
      "metadata": {
        "id": "lsOQY9pXALxJ"
      },
      "execution_count": null,
      "outputs": []
    },
    {
      "cell_type": "code",
      "source": [
        "df_dummies_orig = pd.get_dummies(df_orig, drop_first=True)"
      ],
      "metadata": {
        "id": "RtvgAQzKAPb3"
      },
      "execution_count": null,
      "outputs": []
    },
    {
      "cell_type": "code",
      "source": [
        "print([col for col in df_dummies_orig.columns if \"deposit_type\" in col])"
      ],
      "metadata": {
        "colab": {
          "base_uri": "https://localhost:8080/"
        },
        "id": "AevwXjV5AQMG",
        "outputId": "5fc8ab6b-4e3a-4285-c13a-8ac22fc56a5b"
      },
      "execution_count": null,
      "outputs": [
        {
          "output_type": "stream",
          "name": "stdout",
          "text": [
            "['deposit_type_Non Refund', 'deposit_type_Refundable']\n"
          ]
        }
      ]
    },
    {
      "cell_type": "code",
      "source": [
        "subset = df_dummies_orig[df_dummies_orig[\"deposit_type_Non Refund\"] == 0]\n",
        "sample_5 = subset.sample(5, random_state=42)"
      ],
      "metadata": {
        "id": "FQwK6ke7AU7i"
      },
      "execution_count": null,
      "outputs": []
    },
    {
      "cell_type": "code",
      "source": [
        "X_sample = sample_5.drop(\"is_canceled\", axis=1)\n",
        "X_sample_scaled = scaler.transform(X_sample)"
      ],
      "metadata": {
        "id": "wPQ2NqlBAjK-"
      },
      "execution_count": null,
      "outputs": []
    },
    {
      "cell_type": "markdown",
      "source": [
        "Predecir con el mejor modelo del grid"
      ],
      "metadata": {
        "id": "pnI5s-e_AqqS"
      }
    },
    {
      "cell_type": "code",
      "source": [
        "y_sample_proba = grid_result.best_estimator_.predict_proba(X_sample_scaled)[:,1]\n",
        "y_sample_pred = (y_sample_proba >= 0.5).astype(int)\n",
        "\n",
        "# mostrar resultados\n",
        "for i, (pred, prob) in enumerate(zip(y_sample_pred, y_sample_proba)):\n",
        "    print(f\"Reserva {i+1}: predicción {pred} (probabilidad {prob:.2f})\")"
      ],
      "metadata": {
        "colab": {
          "base_uri": "https://localhost:8080/"
        },
        "id": "7cCmXGdQAp_Z",
        "outputId": "2bb61037-74a8-4e67-9e75-7c703f144a15"
      },
      "execution_count": null,
      "outputs": [
        {
          "output_type": "stream",
          "name": "stdout",
          "text": [
            "Reserva 1: predicción 0 (probabilidad 0.00)\n",
            "Reserva 2: predicción 0 (probabilidad 0.10)\n",
            "Reserva 3: predicción 0 (probabilidad 0.15)\n",
            "Reserva 4: predicción 1 (probabilidad 0.78)\n",
            "Reserva 5: predicción 0 (probabilidad 0.32)\n"
          ]
        }
      ]
    },
    {
      "cell_type": "markdown",
      "source": [
        "“En estas 5 reservas aleatorias con deposit_type_Non Refund igual a cero, el modelo predijo que 4 de ellas no se cancelarían, mientras que una presentó una probabilidad alta de cancelación (78%). Esto demuestra la capacidad del modelo para discriminar con un buen nivel de certeza, priorizando aquellas reservas más expuestas al riesgo de cancelación.”"
      ],
      "metadata": {
        "id": "mkyXOsM1BIS8"
      }
    }
  ]
}