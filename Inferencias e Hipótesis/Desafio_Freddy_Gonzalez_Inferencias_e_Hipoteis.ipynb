{
  "nbformat": 4,
  "nbformat_minor": 0,
  "metadata": {
    "colab": {
      "provenance": []
    },
    "kernelspec": {
      "name": "python3",
      "display_name": "Python 3"
    },
    "language_info": {
      "name": "python"
    }
  },
  "cells": [
    {
      "cell_type": "code",
      "execution_count": null,
      "metadata": {
        "id": "Pf6wtbWaVUsf"
      },
      "outputs": [],
      "source": [
        "import pandas as pd\n",
        "import numpy as np\n",
        "from scipy import stats\n"
      ]
    },
    {
      "cell_type": "markdown",
      "source": [
        "1. Considerando las variables earn, height y age, vamos a suponer que nuestro dataset\n",
        "fuera una población completa. (Prepara los datos adecuadamente)."
      ],
      "metadata": {
        "id": "0pYAr6_qVbAQ"
      }
    },
    {
      "cell_type": "code",
      "source": [
        "data = pd.read_csv('/content/earnings.csv')\n",
        "print(data.head())"
      ],
      "metadata": {
        "colab": {
          "base_uri": "https://localhost:8080/"
        },
        "id": "Dj4ja3BVVeU7",
        "outputId": "f5f60f4d-205f-4edc-d78b-8e38f8881039"
      },
      "execution_count": null,
      "outputs": [
        {
          "output_type": "stream",
          "name": "stdout",
          "text": [
            "   height  weight  male     earn  earnk ethnicity  education  \\\n",
            "0      74   210.0     1  50000.0   50.0     White       16.0   \n",
            "1      66   125.0     0  60000.0   60.0     White       16.0   \n",
            "2      64   126.0     0  30000.0   30.0     White       16.0   \n",
            "3      65   200.0     0  25000.0   25.0     White       17.0   \n",
            "4      63   110.0     0  50000.0   50.0     Other       16.0   \n",
            "\n",
            "   mother_education  father_education  walk  exercise  smokenow  tense  angry  \\\n",
            "0              16.0              16.0     3         3       2.0    0.0    0.0   \n",
            "1              16.0              16.0     6         5       1.0    0.0    0.0   \n",
            "2              16.0              16.0     8         1       2.0    1.0    1.0   \n",
            "3              17.0               NaN     8         1       2.0    0.0    0.0   \n",
            "4              16.0              16.0     5         6       2.0    0.0    0.0   \n",
            "\n",
            "   age  \n",
            "0   45  \n",
            "1   58  \n",
            "2   29  \n",
            "3   57  \n",
            "4   91  \n"
          ]
        }
      ]
    },
    {
      "cell_type": "code",
      "source": [
        "# Función para realizar las pruebas de hipótesis\n",
        "def hypothesis_test(sample, mu, alpha, alternative='two-sided'):\n",
        "    # Calcular estadístico t y p-valor\n",
        "    t_stat, p_value = stats.ttest_1samp(sample, mu)\n",
        "\n",
        "    # Para pruebas unilaterales\n",
        "    if alternative == 'greater':\n",
        "        p_value = 1 - stats.t.cdf(t_stat, df=len(sample)-1)\n",
        "    elif alternative == 'less':\n",
        "        p_value = stats.t.cdf(t_stat, df=len(sample)-1)\n",
        "\n",
        "    # Determinar si se acepta o rechaza la hipótesis nula\n",
        "    reject_null = p_value < alpha\n",
        "\n",
        "    # Generar la respuesta\n",
        "    if reject_null:\n",
        "        result = f\"Con nivel de confianza del {100*(1-alpha)}%, se rechaza la hipótesis nula.\"\n",
        "    else:\n",
        "        result = f\"Con nivel de confianza del {100*(1-alpha)}%, se acepta la hipótesis nula.\"\n",
        "\n",
        "    return t_stat, p_value, result\n",
        "\n",
        "# Hipótesis para las variables 'earn', 'height' y 'age'\n",
        "hypotheses = [\n",
        "    ('earn', 20000, 'two-sided'),\n",
        "    ('height', 55, 'two-sided'),\n",
        "    ('age', 44, 'two-sided'),\n",
        "    ('earn', 35000, 'two-sided'),\n",
        "    ('height', 68, 'two-sided'),\n",
        "    ('height', 56, 'two-sided'),\n",
        "    ('earn', 25000, 'greater'),\n",
        "    ('age', 63, 'greater'),\n",
        "    ('age', 51, 'greater'),\n",
        "    ('earn', 32000, 'less'),\n",
        "    ('height', 70, 'less'),\n",
        "    ('age', 62, 'less')\n",
        "]\n",
        "\n",
        "# Realizamos las pruebas\n",
        "results = []\n",
        "\n",
        "for var, mu, alternative in hypotheses:\n",
        "    for alpha in [0.01, 0.05, 0.10]:  # Pruebas con diferentes niveles de significancia\n",
        "        sample = data[var].sample(25, random_state=np.random.randint(1, 1000))  # Muestra de tamaño 25\n",
        "        t_stat, p_value, result = hypothesis_test(sample, mu, alpha, alternative)\n",
        "        results.append((var, mu, alpha, t_stat, p_value, result))\n",
        "\n",
        "# Convertir los resultados a un DataFrame\n",
        "results_df = pd.DataFrame(results, columns=['Variable', 'Mu', 'Alpha', 'T-stat', 'P-value', 'Resultado'])\n",
        "print(results_df)\n",
        "\n",
        "# Calcular la media poblacional para cada variable\n",
        "means = data[['earn', 'height', 'age']].mean()\n",
        "print(\"\\nMedia poblacional para cada variable:\")\n",
        "print(means)\n"
      ],
      "metadata": {
        "colab": {
          "base_uri": "https://localhost:8080/"
        },
        "id": "llYKjQl8WJ-H",
        "outputId": "202d535d-5876-4857-e317-9bc37ddaccdf"
      },
      "execution_count": null,
      "outputs": [
        {
          "output_type": "stream",
          "name": "stdout",
          "text": [
            "   Variable     Mu  Alpha     T-stat       P-value  \\\n",
            "0      earn  20000   0.01   1.176671  2.508658e-01   \n",
            "1      earn  20000   0.05  -1.991406  5.793550e-02   \n",
            "2      earn  20000   0.10   0.918872  3.673059e-01   \n",
            "3    height     55   0.01  15.004132  1.079177e-13   \n",
            "4    height     55   0.05  19.032276  5.502479e-16   \n",
            "5    height     55   0.10  11.073023  6.477711e-11   \n",
            "6       age     44   0.01  -0.588633  5.616070e-01   \n",
            "7       age     44   0.05   0.928940  3.621696e-01   \n",
            "8       age     44   0.10  -0.674738  5.062908e-01   \n",
            "9      earn  35000   0.01  -5.836132  5.104879e-06   \n",
            "10     earn  35000   0.05  -2.216828  3.636101e-02   \n",
            "11     earn  35000   0.10  -1.096986  2.835327e-01   \n",
            "12   height     68   0.01  -2.417579  2.358313e-02   \n",
            "13   height     68   0.05  -0.053858  9.574943e-01   \n",
            "14   height     68   0.10  -2.614093  1.521149e-02   \n",
            "15   height     56   0.01  15.589795  4.674247e-14   \n",
            "16   height     56   0.05  13.611686  8.820108e-13   \n",
            "17   height     56   0.10  12.369660  6.652303e-12   \n",
            "18     earn  25000   0.01  -1.832482  9.603416e-01   \n",
            "19     earn  25000   0.05  -1.402268  9.131811e-01   \n",
            "20     earn  25000   0.10  -2.999869  9.968962e-01   \n",
            "21      age     63   0.01  -7.004999  9.999998e-01   \n",
            "22      age     63   0.05  -6.218754  9.999990e-01   \n",
            "23      age     63   0.10  -6.340452  9.999993e-01   \n",
            "24      age     51   0.01  -3.363088  9.987094e-01   \n",
            "25      age     51   0.05  -3.080314  9.974381e-01   \n",
            "26      age     51   0.10  -1.182039  8.756151e-01   \n",
            "27     earn  32000   0.01  -2.992577  3.158056e-03   \n",
            "28     earn  32000   0.05  -6.311810  7.954289e-07   \n",
            "29     earn  32000   0.10  -5.831162  2.584033e-06   \n",
            "30   height     70   0.01  -4.091864  2.088233e-04   \n",
            "31   height     70   0.05  -5.427414  7.070395e-06   \n",
            "32   height     70   0.10  -5.173020  1.341582e-05   \n",
            "33      age     62   0.01  -5.781620  2.921519e-06   \n",
            "34      age     62   0.05  -6.747801  2.792828e-07   \n",
            "35      age     62   0.10  -5.042429  1.866619e-05   \n",
            "\n",
            "                                            Resultado  \n",
            "0   Con nivel de confianza del 99.0%, se acepta la...  \n",
            "1   Con nivel de confianza del 95.0%, se acepta la...  \n",
            "2   Con nivel de confianza del 90.0%, se acepta la...  \n",
            "3   Con nivel de confianza del 99.0%, se rechaza l...  \n",
            "4   Con nivel de confianza del 95.0%, se rechaza l...  \n",
            "5   Con nivel de confianza del 90.0%, se rechaza l...  \n",
            "6   Con nivel de confianza del 99.0%, se acepta la...  \n",
            "7   Con nivel de confianza del 95.0%, se acepta la...  \n",
            "8   Con nivel de confianza del 90.0%, se acepta la...  \n",
            "9   Con nivel de confianza del 99.0%, se rechaza l...  \n",
            "10  Con nivel de confianza del 95.0%, se rechaza l...  \n",
            "11  Con nivel de confianza del 90.0%, se acepta la...  \n",
            "12  Con nivel de confianza del 99.0%, se acepta la...  \n",
            "13  Con nivel de confianza del 95.0%, se acepta la...  \n",
            "14  Con nivel de confianza del 90.0%, se rechaza l...  \n",
            "15  Con nivel de confianza del 99.0%, se rechaza l...  \n",
            "16  Con nivel de confianza del 95.0%, se rechaza l...  \n",
            "17  Con nivel de confianza del 90.0%, se rechaza l...  \n",
            "18  Con nivel de confianza del 99.0%, se acepta la...  \n",
            "19  Con nivel de confianza del 95.0%, se acepta la...  \n",
            "20  Con nivel de confianza del 90.0%, se acepta la...  \n",
            "21  Con nivel de confianza del 99.0%, se acepta la...  \n",
            "22  Con nivel de confianza del 95.0%, se acepta la...  \n",
            "23  Con nivel de confianza del 90.0%, se acepta la...  \n",
            "24  Con nivel de confianza del 99.0%, se acepta la...  \n",
            "25  Con nivel de confianza del 95.0%, se acepta la...  \n",
            "26  Con nivel de confianza del 90.0%, se acepta la...  \n",
            "27  Con nivel de confianza del 99.0%, se rechaza l...  \n",
            "28  Con nivel de confianza del 95.0%, se rechaza l...  \n",
            "29  Con nivel de confianza del 90.0%, se rechaza l...  \n",
            "30  Con nivel de confianza del 99.0%, se rechaza l...  \n",
            "31  Con nivel de confianza del 95.0%, se rechaza l...  \n",
            "32  Con nivel de confianza del 90.0%, se rechaza l...  \n",
            "33  Con nivel de confianza del 99.0%, se rechaza l...  \n",
            "34  Con nivel de confianza del 95.0%, se rechaza l...  \n",
            "35  Con nivel de confianza del 90.0%, se rechaza l...  \n",
            "\n",
            "Media poblacional para cada variable:\n",
            "earn      21147.296256\n",
            "height       66.568833\n",
            "age          42.934471\n",
            "dtype: float64\n"
          ]
        }
      ]
    },
    {
      "cell_type": "markdown",
      "source": [
        "2. Crea una función que estime la proporción de hombres en el dataset, considerando\n",
        "una muestra de 50 individuos, con niveles de significancia de 0,05 y 0,01. Escribe con\n",
        "palabras tus resultados ejecutar la función e interpreta. Compara con la proporción\n",
        "real."
      ],
      "metadata": {
        "id": "acZroBr0XDi1"
      }
    },
    {
      "cell_type": "code",
      "source": [
        "from statsmodels.stats.proportion import proportions_ztest\n"
      ],
      "metadata": {
        "id": "2ZsX9yBKXF_J"
      },
      "execution_count": null,
      "outputs": []
    },
    {
      "cell_type": "code",
      "source": [
        "# Función para estimar la proporción de hombres y realizar la prueba de hipótesis\n",
        "def test_male_proportion(data, sample_size=50, alpha_values=[0.05, 0.01]):\n",
        "    # Calcular la proporción real de hombres en el dataset\n",
        "    real_proportion = data['male'].mean()\n",
        "\n",
        "    # Realizar las pruebas de hipótesis para diferentes niveles de significancia\n",
        "    results = []\n",
        "    for alpha in alpha_values:\n",
        "        # Tomar una muestra aleatoria de tamaño sample_size\n",
        "        sample = data['male'].sample(sample_size, random_state=np.random.randint(1, 1000))\n",
        "        sample_proportion = sample.mean()\n",
        "\n",
        "        # Número de hombres en la muestra\n",
        "        count_men = sample.sum()\n",
        "\n",
        "        # Realizar la prueba de proporción con la hipótesis nula: H0: p = p0 (proporción en la población)\n",
        "        p0 = real_proportion  # Hipótesis nula: la proporción en la muestra es igual a la proporción en la población\n",
        "        z_stat, p_value = proportions_ztest(count_men, sample_size, p0)\n",
        "\n",
        "        # Determinar si se rechaza la hipótesis nula\n",
        "        reject_null = p_value < alpha\n",
        "        result = f\"Con nivel de confianza del {100*(1-alpha)}%, {'se rechaza' if reject_null else 'se acepta'} la hipótesis nula.\"\n",
        "\n",
        "        # Guardar los resultados\n",
        "        results.append((alpha, sample_proportion, z_stat, p_value, result))\n",
        "\n",
        "    return results, real_proportion\n",
        "\n",
        "# Ejecutar la función\n",
        "results, real_proportion = test_male_proportion(data)\n",
        "\n",
        "# Mostrar los resultados\n",
        "results_df = pd.DataFrame(results, columns=['Alpha', 'Proporción Muestra', 'Z-Estadístico', 'P-Valor', 'Resultado'])\n",
        "print(results_df)\n",
        "\n",
        "# Imprimir la proporción real de hombres en el dataset\n",
        "print(\"\\nProporción real de hombres en el dataset:\")\n",
        "print(f\"{real_proportion * 100:.2f}%\")"
      ],
      "metadata": {
        "colab": {
          "base_uri": "https://localhost:8080/"
        },
        "id": "I6fQy3jxXJok",
        "outputId": "3e9a6179-8b9e-4f95-9cae-969bff9d5f59"
      },
      "execution_count": null,
      "outputs": [
        {
          "output_type": "stream",
          "name": "stdout",
          "text": [
            "   Alpha  Proporción Muestra  Z-Estadístico   P-Valor  \\\n",
            "0   0.05                0.32      -0.783633  0.433255   \n",
            "1   0.01                0.44       0.972995  0.330556   \n",
            "\n",
            "                                           Resultado  \n",
            "0  Con nivel de confianza del 95.0%, se acepta la...  \n",
            "1  Con nivel de confianza del 99.0%, se acepta la...  \n",
            "\n",
            "Proporción real de hombres en el dataset:\n",
            "37.17%\n"
          ]
        }
      ]
    },
    {
      "cell_type": "code",
      "source": [],
      "metadata": {
        "id": "QfRWuuIIXR7R"
      },
      "execution_count": null,
      "outputs": []
    },
    {
      "cell_type": "markdown",
      "source": [
        "3. Considerando el dataset como una muestra, verifica si el género (male=1 significa\n",
        "‘hombre”) influye sobre el sueldo “earn” de las personas. Explica y justifica tu\n",
        "procedimiento."
      ],
      "metadata": {
        "id": "BLZ7WuQEXodC"
      }
    },
    {
      "cell_type": "code",
      "source": [
        "# Filtrar los datos de hombres y mujeres\n",
        "hombres = data[data['male'] == 1]['earn']\n",
        "mujeres = data[data['male'] == 0]['earn']\n",
        "\n",
        "# Realizar la prueba t de Student para muestras independientes\n",
        "t_stat, p_value = stats.ttest_ind(hombres, mujeres)\n",
        "\n",
        "# Imprimir los resultados\n",
        "print(f\"Estadístico t: {t_stat}\")\n",
        "print(f\"P-valor: {p_value}\")\n",
        "\n",
        "# Definir el nivel de significancia\n",
        "alpha = 0.05\n",
        "\n",
        "# Verificar si rechazamos la hipótesis nula\n",
        "if p_value < alpha:\n",
        "    result = f\"Con un nivel de confianza del {100*(1-alpha)}%, se rechaza la hipótesis nula. Existen diferencias significativas entre los sueldos de hombres y mujeres.\"\n",
        "else:\n",
        "    result = f\"Con un nivel de confianza del {100*(1-alpha)}%, no se rechaza la hipótesis nula. No existen diferencias significativas entre los sueldos de hombres y mujeres.\"\n",
        "\n",
        "print(result)"
      ],
      "metadata": {
        "colab": {
          "base_uri": "https://localhost:8080/"
        },
        "id": "wVbYvfrLXjU2",
        "outputId": "eaecbea2-950f-4931-df4b-5d6dc65c70f5"
      },
      "execution_count": null,
      "outputs": [
        {
          "output_type": "stream",
          "name": "stdout",
          "text": [
            "Estadístico t: 13.68318837519989\n",
            "P-valor: 1.2371946179054945e-40\n",
            "Con un nivel de confianza del 95.0%, se rechaza la hipótesis nula. Existen diferencias significativas entre los sueldos de hombres y mujeres.\n"
          ]
        }
      ]
    },
    {
      "cell_type": "markdown",
      "source": [
        "En este caso, como el p-valor es menor que 0.05, se rechazaría la hipótesis nula, indicando que existe una diferencia significativa en los sueldos de hombres y mujeres.\n",
        "\n"
      ],
      "metadata": {
        "id": "s79C_78LX-_T"
      }
    },
    {
      "cell_type": "code",
      "source": [],
      "metadata": {
        "id": "VtK0aFFhYA7m"
      },
      "execution_count": null,
      "outputs": []
    }
  ]
}